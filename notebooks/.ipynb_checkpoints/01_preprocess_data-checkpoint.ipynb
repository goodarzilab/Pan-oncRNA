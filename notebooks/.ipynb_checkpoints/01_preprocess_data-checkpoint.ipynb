{
 "cells": [
  {
   "cell_type": "markdown",
   "metadata": {},
   "source": [
    "# Pancancer oncRNA: Preprocess TCGA Data\n",
    "Preprocess all the TCGA data for downstream pancancer locus analysis\n"
   ]
  },
  {
   "cell_type": "code",
   "execution_count": 1,
   "metadata": {},
   "outputs": [],
   "source": [
    "import pandas as pd\n",
    "from scipy.signal import find_peaks, peak_widths\n",
    "import os\n",
    "import json as js\n",
    "import pymongo\n",
    "import matplotlib.pyplot as plt\n",
    "import numpy as np\n",
    "import os"
   ]
  },
  {
   "cell_type": "markdown",
   "metadata": {},
   "source": [
    "## Preprocess Data"
   ]
  },
  {
   "cell_type": "markdown",
   "metadata": {},
   "source": [
    "### Dust\n",
    "Before converting the TCGA bam files to bed files, we first implement a low-complexity sequence filter to eliminate potential artifact reads. "
   ]
  },
  {
   "cell_type": "markdown",
   "metadata": {},
   "source": [
    "Command (smRNA env): <br>\n",
    "`python3 scripts/dust_filter.py &> log/dust_filter.out`"
   ]
  },
  {
   "cell_type": "markdown",
   "metadata": {},
   "source": [
    "### Bamtobed\n",
    "Next step is to convert all the bam files to bed files."
   ]
  },
  {
   "cell_type": "markdown",
   "metadata": {},
   "source": [
    "Command (smRNA env): <br>\n",
    "`ls /rumi/shams/jwang/TCGA_oncRNA/data/*.dust.bam | parallel -j 30 bash scripts/bamtobed.sh {} &> log/bamtobed.out`"
   ]
  },
  {
   "cell_type": "markdown",
   "metadata": {},
   "source": [
    "### Filter TCGA: \n"
   ]
  },
  {
   "cell_type": "markdown",
   "metadata": {},
   "source": [
    "Command to run in TCGA_oncRNA directory in smRNA env: <br>\n",
    "`python3 scripts/filter_TCGA.py &> log/filter_TCGA.out`"
   ]
  },
  {
   "cell_type": "markdown",
   "metadata": {},
   "source": [
    "Moved all TCGA files into another subdirectory in `data/` called `TCGA/`"
   ]
  },
  {
   "cell_type": "markdown",
   "metadata": {},
   "source": [
    "### Find all unique loci"
   ]
  },
  {
   "cell_type": "markdown",
   "metadata": {},
   "source": [
    "Parallelized script version: <br>\n",
    "Command in proj directory smRNA env <br>\n",
    "`python3 scripts/find_unique_loci.py &> log/find_unique_loci.out`"
   ]
  },
  {
   "cell_type": "markdown",
   "metadata": {},
   "source": [
    "### Merge all loci"
   ]
  },
  {
   "cell_type": "markdown",
   "metadata": {},
   "source": [
    "Command <br>\n",
    "`cat data/tcga_all_unique_loci.bed | sort -k1,1 -k2,2n | mergeBed -s -c 6 -o distinct -i stdin | awk '{print $1 \"\\t\" $2 \"\\t\" $3 \"\\t\" $1\":\"$2\"-\"$3\":\"$4  \"\\t.\\t\" $4 > \"data/tcga_merged_smRNAs_loci.bed\"}'`"
   ]
  },
  {
   "cell_type": "markdown",
   "metadata": {},
   "source": [
    "## Split Loci\n",
    "Since some of the locus features are too long, we need to implement a method to split the loci based on peaks without losing too much information (as Piranha would). Here we have **310372** loci to split."
   ]
  },
  {
   "cell_type": "code",
   "execution_count": 2,
   "metadata": {},
   "outputs": [
    {
     "name": "stdout",
     "output_type": "stream",
     "text": [
      "(74710201, 6)\n"
     ]
    },
    {
     "data": {
      "text/html": [
       "<div>\n",
       "<style scoped>\n",
       "    .dataframe tbody tr th:only-of-type {\n",
       "        vertical-align: middle;\n",
       "    }\n",
       "\n",
       "    .dataframe tbody tr th {\n",
       "        vertical-align: top;\n",
       "    }\n",
       "\n",
       "    .dataframe thead th {\n",
       "        text-align: right;\n",
       "    }\n",
       "</style>\n",
       "<table border=\"1\" class=\"dataframe\">\n",
       "  <thead>\n",
       "    <tr style=\"text-align: right;\">\n",
       "      <th></th>\n",
       "      <th>0</th>\n",
       "      <th>1</th>\n",
       "      <th>2</th>\n",
       "      <th>3</th>\n",
       "      <th>4</th>\n",
       "      <th>5</th>\n",
       "    </tr>\n",
       "  </thead>\n",
       "  <tbody>\n",
       "    <tr>\n",
       "      <th>0</th>\n",
       "      <td>chr1</td>\n",
       "      <td>155</td>\n",
       "      <td>171</td>\n",
       "      <td>chr1:155-171:+</td>\n",
       "      <td>.</td>\n",
       "      <td>+</td>\n",
       "    </tr>\n",
       "    <tr>\n",
       "      <th>1</th>\n",
       "      <td>chr1</td>\n",
       "      <td>568</td>\n",
       "      <td>585</td>\n",
       "      <td>chr1:568-585:-</td>\n",
       "      <td>.</td>\n",
       "      <td>-</td>\n",
       "    </tr>\n",
       "    <tr>\n",
       "      <th>2</th>\n",
       "      <td>chr1</td>\n",
       "      <td>660</td>\n",
       "      <td>678</td>\n",
       "      <td>chr1:660-678:+</td>\n",
       "      <td>.</td>\n",
       "      <td>+</td>\n",
       "    </tr>\n",
       "    <tr>\n",
       "      <th>3</th>\n",
       "      <td>chr1</td>\n",
       "      <td>730</td>\n",
       "      <td>747</td>\n",
       "      <td>chr1:730-747:-</td>\n",
       "      <td>.</td>\n",
       "      <td>-</td>\n",
       "    </tr>\n",
       "    <tr>\n",
       "      <th>4</th>\n",
       "      <td>chr1</td>\n",
       "      <td>858</td>\n",
       "      <td>873</td>\n",
       "      <td>chr1:858-873:+</td>\n",
       "      <td>.</td>\n",
       "      <td>+</td>\n",
       "    </tr>\n",
       "  </tbody>\n",
       "</table>\n",
       "</div>"
      ],
      "text/plain": [
       "      0    1    2               3  4  5\n",
       "0  chr1  155  171  chr1:155-171:+  .  +\n",
       "1  chr1  568  585  chr1:568-585:-  .  -\n",
       "2  chr1  660  678  chr1:660-678:+  .  +\n",
       "3  chr1  730  747  chr1:730-747:-  .  -\n",
       "4  chr1  858  873  chr1:858-873:+  .  +"
      ]
     },
     "execution_count": 2,
     "metadata": {},
     "output_type": "execute_result"
    }
   ],
   "source": [
    "all_loci = pd.read_csv(\"data/tcga_merged_smRNAs_loci.bed\", header=None, sep=\"\\t\")\n",
    "print(all_loci.shape)\n",
    "all_loci.head()"
   ]
  },
  {
   "cell_type": "code",
   "execution_count": 3,
   "metadata": {},
   "outputs": [
    {
     "name": "stdout",
     "output_type": "stream",
     "text": [
      "(310372, 7)\n"
     ]
    },
    {
     "data": {
      "text/html": [
       "<div>\n",
       "<style scoped>\n",
       "    .dataframe tbody tr th:only-of-type {\n",
       "        vertical-align: middle;\n",
       "    }\n",
       "\n",
       "    .dataframe tbody tr th {\n",
       "        vertical-align: top;\n",
       "    }\n",
       "\n",
       "    .dataframe thead th {\n",
       "        text-align: right;\n",
       "    }\n",
       "</style>\n",
       "<table border=\"1\" class=\"dataframe\">\n",
       "  <thead>\n",
       "    <tr style=\"text-align: right;\">\n",
       "      <th></th>\n",
       "      <th>0</th>\n",
       "      <th>1</th>\n",
       "      <th>2</th>\n",
       "      <th>3</th>\n",
       "      <th>4</th>\n",
       "      <th>5</th>\n",
       "      <th>length</th>\n",
       "    </tr>\n",
       "  </thead>\n",
       "  <tbody>\n",
       "    <tr>\n",
       "      <th>46</th>\n",
       "      <td>chr1</td>\n",
       "      <td>9983</td>\n",
       "      <td>10238</td>\n",
       "      <td>chr1:9983-10238:-</td>\n",
       "      <td>.</td>\n",
       "      <td>-</td>\n",
       "      <td>255</td>\n",
       "    </tr>\n",
       "    <tr>\n",
       "      <th>52</th>\n",
       "      <td>chr1</td>\n",
       "      <td>10255</td>\n",
       "      <td>10619</td>\n",
       "      <td>chr1:10255-10619:-</td>\n",
       "      <td>.</td>\n",
       "      <td>-</td>\n",
       "      <td>364</td>\n",
       "    </tr>\n",
       "    <tr>\n",
       "      <th>143</th>\n",
       "      <td>chr1</td>\n",
       "      <td>13287</td>\n",
       "      <td>13505</td>\n",
       "      <td>chr1:13287-13505:-</td>\n",
       "      <td>.</td>\n",
       "      <td>-</td>\n",
       "      <td>218</td>\n",
       "    </tr>\n",
       "    <tr>\n",
       "      <th>178</th>\n",
       "      <td>chr1</td>\n",
       "      <td>14402</td>\n",
       "      <td>15124</td>\n",
       "      <td>chr1:14402-15124:-</td>\n",
       "      <td>.</td>\n",
       "      <td>-</td>\n",
       "      <td>722</td>\n",
       "    </tr>\n",
       "    <tr>\n",
       "      <th>200</th>\n",
       "      <td>chr1</td>\n",
       "      <td>15363</td>\n",
       "      <td>15568</td>\n",
       "      <td>chr1:15363-15568:-</td>\n",
       "      <td>.</td>\n",
       "      <td>-</td>\n",
       "      <td>205</td>\n",
       "    </tr>\n",
       "  </tbody>\n",
       "</table>\n",
       "</div>"
      ],
      "text/plain": [
       "        0      1      2                   3  4  5  length\n",
       "46   chr1   9983  10238   chr1:9983-10238:-  .  -     255\n",
       "52   chr1  10255  10619  chr1:10255-10619:-  .  -     364\n",
       "143  chr1  13287  13505  chr1:13287-13505:-  .  -     218\n",
       "178  chr1  14402  15124  chr1:14402-15124:-  .  -     722\n",
       "200  chr1  15363  15568  chr1:15363-15568:-  .  -     205"
      ]
     },
     "execution_count": 3,
     "metadata": {},
     "output_type": "execute_result"
    }
   ],
   "source": [
    "all_loci[\"length\"] = all_loci[2] - all_loci[1]\n",
    "loci_to_split = all_loci[all_loci[\"length\"] > 200]\n",
    "print(loci_to_split.shape)\n",
    "loci_to_split.head()"
   ]
  },
  {
   "cell_type": "code",
   "execution_count": 4,
   "metadata": {},
   "outputs": [
    {
     "data": {
      "text/plain": [
       "Text(0, 0.5, 'Number of loci')"
      ]
     },
     "execution_count": 4,
     "metadata": {},
     "output_type": "execute_result"
    },
    {
     "data": {
      "image/png": "[encoded data removed]",
      "text/plain": [
       "<Figure size 432x288 with 1 Axes>"
      ]
     },
     "metadata": {
      "needs_background": "light"
     },
     "output_type": "display_data"
    }
   ],
   "source": [
    "plt.hist(np.log10(loci_to_split[\"length\"]))\n",
    "plt.xlabel(\"Log10 Length\")\n",
    "plt.ylabel(\"Number of loci\")"
   ]
  },
  {
   "cell_type": "code",
   "execution_count": 5,
   "metadata": {},
   "outputs": [],
   "source": [
    "loci_to_split.iloc[:, :-1].to_csv(\"data/tcga_merged_loci_to_split.bed\", header=None, index=None, sep=\"\\t\")"
   ]
  },
  {
   "cell_type": "markdown",
   "metadata": {},
   "source": [
    "### Intersect Loci to Split"
   ]
  },
  {
   "cell_type": "markdown",
   "metadata": {},
   "source": [
    "First we intersect all the TCGA samples with the locus features that are too long to generate a sense of coverage across the loci for splitting purposes. <br>\n",
    "Command: <br>\n",
    "`ls /rumi/shams/jwang/TCGA_oncRNA/data/TCGA/*.filter.bed | parallel -j 20 bash scripts/intersect_TCGA_split_loci.sh {} &> log/intersect_TCGA_split_loci.out`"
   ]
  },
  {
   "cell_type": "markdown",
   "metadata": {},
   "source": [
    "### Generate Genomecov\n",
    "Next we run the below script to generate genomecoverage for each oversized locus for each TCGA sample to then run peak calling. <br>\n",
    "Command: <br>\n",
    "`python3 scripts/genomecov.py &> log/genomecov_python.out`"
   ]
  },
  {
   "cell_type": "markdown",
   "metadata": {},
   "source": [
    "### Merge genomecov\n",
    "Next we merge all the TCGA genomecov results into a single dictionary for splitting."
   ]
  },
  {
   "cell_type": "markdown",
   "metadata": {},
   "source": [
    "Command: <br>\n",
    "`python3 scripts/merge_genomecov.py &> log/merge_genomecov_python.out`"
   ]
  },
  {
   "cell_type": "markdown",
   "metadata": {},
   "source": [
    "### Peak Calling and Loci Splitting"
   ]
  },
  {
   "cell_type": "code",
   "execution_count": 6,
   "metadata": {},
   "outputs": [],
   "source": [
    "with open(\"data/merged_loci_to_split_coverage.json\",\"r\") as f:   \n",
    "    loci_coverage_dict = js.load(f)"
   ]
  },
  {
   "cell_type": "code",
   "execution_count": 7,
   "metadata": {},
   "outputs": [
    {
     "data": {
      "text/plain": [
       "310372"
      ]
     },
     "execution_count": 7,
     "metadata": {},
     "output_type": "execute_result"
    }
   ],
   "source": [
    "len(loci_coverage_dict)"
   ]
  },
  {
   "cell_type": "code",
   "execution_count": 8,
   "metadata": {},
   "outputs": [],
   "source": [
    "new_loci_list = []\n",
    "for locus, cov in loci_coverage_dict.items():\n",
    "    splits = locus.split(\":\")\n",
    "    ref = splits[0]\n",
    "    start = int(splits[1].split(\"-\")[0])\n",
    "    end = int(splits[1].split(\"-\")[1])\n",
    "    strand = splits[2]\n",
    "    coverage = np.array(loci_coverage_dict[locus])\n",
    "    coord = np.arange(start, end)\n",
    "    peaks, _ = find_peaks(coverage, height=10, rel_height=0.5, width=[15, 200], distance=20)\n",
    "    results = peak_widths(coverage, peaks, rel_height=0.5)  \n",
    "    \n",
    "    #peak_widths returns 4 arrays in order: peak widths, peak heights, peak start, peak end.\n",
    "    for new_start_index, new_end_index in zip(results[2], results[3]):\n",
    "        new_start_index, new_end_index = int(new_start_index), int(new_end_index) #These are the new indices, based on peaks\n",
    "        new_start = coord[new_start_index]\n",
    "        new_end = coord[new_end_index]\n",
    "\n",
    "        if new_end - new_start + 9 < 200: #Add additional nt buffer if loci length is not too large.\n",
    "            new_start -= 4\n",
    "            new_end += 5 \n",
    "        new_locus = f\"{ref}:{new_start}-{new_end}:{strand}\"\n",
    "        new_loci_list.append(new_locus)"
   ]
  },
  {
   "cell_type": "code",
   "execution_count": 9,
   "metadata": {},
   "outputs": [
    {
     "data": {
      "text/plain": [
       "1637234"
      ]
     },
     "execution_count": 9,
     "metadata": {},
     "output_type": "execute_result"
    }
   ],
   "source": [
    "len(new_loci_list)"
   ]
  },
  {
   "cell_type": "code",
   "execution_count": 10,
   "metadata": {},
   "outputs": [
    {
     "data": {
      "text/plain": [
       "76037063"
      ]
     },
     "execution_count": 10,
     "metadata": {},
     "output_type": "execute_result"
    }
   ],
   "source": [
    "loci_list = all_loci[all_loci[\"length\"] <= 200][3].tolist()\n",
    "loci_list.extend(new_loci_list)\n",
    "len(loci_list)"
   ]
  },
  {
   "cell_type": "code",
   "execution_count": 11,
   "metadata": {},
   "outputs": [],
   "source": [
    "with open(\"data/tcga_split_smRNAs_loci.bed\", \"wt\") as out:   \n",
    "    for locus in loci_list:\n",
    "        splits = locus.split(\":\")\n",
    "        start = splits[1].split(\"-\")[0]\n",
    "        end = splits[1].split(\"-\")[1]\n",
    "        bed = f\"{splits[0]}\\t{start}\\t{end}\\t{locus}\\t.\\t{splits[-1]}\"\n",
    "        out.write(bed + \"\\n\")"
   ]
  },
  {
   "cell_type": "code",
   "execution_count": 12,
   "metadata": {},
   "outputs": [],
   "source": [
    "%%bash\n",
    "cat data/tcga_split_smRNAs_loci.bed | sort -k1,1 -k2,2n | mergeBed -s -c 6 -o distinct -i stdin | \\\n",
    "awk '{print $1 \"\\t\" $2 \"\\t\" $3 \"\\t\" $1\":\"$2\"-\"$3\":\"$4  \"\\t.\" \"\\t\" $4  > \"data/tcga_smRNAs_loci_map.bed\"}' "
   ]
  },
  {
   "cell_type": "code",
   "execution_count": 13,
   "metadata": {},
   "outputs": [
    {
     "data": {
      "text/plain": [
       "75944600"
      ]
     },
     "execution_count": 13,
     "metadata": {},
     "output_type": "execute_result"
    }
   ],
   "source": [
    "loci_map = pd.read_csv(\"data/tcga_smRNAs_loci_map.bed\", header=None, sep=\"\\t\")[3]\n",
    "len(loci_map)"
   ]
  },
  {
   "cell_type": "markdown",
   "metadata": {},
   "source": [
    "Our final feature map has 75944600 unqiue loci"
   ]
  },
  {
   "cell_type": "markdown",
   "metadata": {},
   "source": [
    "## exRNA Filter\n",
    "Here we filter out all the loci that are also seen in non-cancerous samples from the exRNA Atlas and other publically available non-cancerous exosomal smRNAseq datasets. \n"
   ]
  },
  {
   "cell_type": "markdown",
   "metadata": {},
   "source": [
    "Command: <br>\n",
    "`ls /rumi/shams/jwang/exRNA_atlas/data/bedfiles/*.srt.filter.bed | parallel -j 30 bash scripts/intersect_exRNA_atlas_loci.sh {} &> log/intersect_exRNA_atlas_loci.out` <br>\n",
    "\n",
    "\n",
    "The main command in the script is: <br>\n",
    "`intersectBed -s -u -a data/tcga_smRNAs_loci_map.bed-b $1 > data/exRNA/$out` <br>\n",
    "The `-u` option reports a locus in `-a` **once** when there is at least one overlap with `-b`"
   ]
  },
  {
   "cell_type": "code",
   "execution_count": 14,
   "metadata": {},
   "outputs": [
    {
     "data": {
      "text/plain": [
       "1383"
      ]
     },
     "execution_count": 14,
     "metadata": {},
     "output_type": "execute_result"
    }
   ],
   "source": [
    "exRNA_intersect_files = [f for f in os.scandir(\"data/exRNA\") if os.stat(f).st_size != 0 and f.name.endswith(\".bed\")] #Exclude empty no hit samples.\n",
    "len(exRNA_intersect_files)"
   ]
  },
  {
   "cell_type": "code",
   "execution_count": 15,
   "metadata": {},
   "outputs": [
    {
     "data": {
      "text/plain": [
       "35576447"
      ]
     },
     "execution_count": 15,
     "metadata": {},
     "output_type": "execute_result"
    }
   ],
   "source": [
    "exRNA_loci_hits = {}\n",
    "for file in exRNA_intersect_files:\n",
    "    df = pd.read_csv(file, sep=\"\\t\", header=None)\n",
    "    for locus in df[3]:\n",
    "        if locus in exRNA_loci_hits:\n",
    "            exRNA_loci_hits[locus] += 1\n",
    "        else:\n",
    "            exRNA_loci_hits[locus] = 1\n",
    "len(exRNA_loci_hits) #Represents number of loci in our loci feature map that had at least one overlap with a sample in the exRNA atlas"
   ]
  },
  {
   "cell_type": "code",
   "execution_count": 16,
   "metadata": {},
   "outputs": [
    {
     "data": {
      "text/html": [
       "<div>\n",
       "<style scoped>\n",
       "    .dataframe tbody tr th:only-of-type {\n",
       "        vertical-align: middle;\n",
       "    }\n",
       "\n",
       "    .dataframe tbody tr th {\n",
       "        vertical-align: top;\n",
       "    }\n",
       "\n",
       "    .dataframe thead th {\n",
       "        text-align: right;\n",
       "    }\n",
       "</style>\n",
       "<table border=\"1\" class=\"dataframe\">\n",
       "  <thead>\n",
       "    <tr style=\"text-align: right;\">\n",
       "      <th></th>\n",
       "      <th>loci</th>\n",
       "      <th>counts</th>\n",
       "    </tr>\n",
       "  </thead>\n",
       "  <tbody>\n",
       "    <tr>\n",
       "      <th>0</th>\n",
       "      <td>chr1:16835-16862:-</td>\n",
       "      <td>216</td>\n",
       "    </tr>\n",
       "    <tr>\n",
       "      <th>1</th>\n",
       "      <td>chr1:17264-17294:-</td>\n",
       "      <td>3</td>\n",
       "    </tr>\n",
       "    <tr>\n",
       "      <th>2</th>\n",
       "      <td>chr1:102826-102850:+</td>\n",
       "      <td>144</td>\n",
       "    </tr>\n",
       "    <tr>\n",
       "      <th>3</th>\n",
       "      <td>chr1:137320-137376:+</td>\n",
       "      <td>62</td>\n",
       "    </tr>\n",
       "    <tr>\n",
       "      <th>4</th>\n",
       "      <td>chr1:187357-187409:-</td>\n",
       "      <td>227</td>\n",
       "    </tr>\n",
       "  </tbody>\n",
       "</table>\n",
       "</div>"
      ],
      "text/plain": [
       "                   loci  counts\n",
       "0    chr1:16835-16862:-     216\n",
       "1    chr1:17264-17294:-       3\n",
       "2  chr1:102826-102850:+     144\n",
       "3  chr1:137320-137376:+      62\n",
       "4  chr1:187357-187409:-     227"
      ]
     },
     "execution_count": 16,
     "metadata": {},
     "output_type": "execute_result"
    }
   ],
   "source": [
    "exRNA_loci_hits_df = pd.DataFrame.from_dict(exRNA_loci_hits, orient=\"index\", columns=[\"counts\"])\n",
    "exRNA_loci_hits_df = exRNA_loci_hits_df.reset_index(drop=False).rename(columns={\"index\":\"loci\"})\n",
    "exRNA_loci_hits_df.head()"
   ]
  },
  {
   "cell_type": "code",
   "execution_count": 17,
   "metadata": {},
   "outputs": [],
   "source": [
    "total_loci_num = 75944600\n",
    "exRNA_filter_results = {\"threshold\":[], \"count\":[]}\n",
    "for th in range(1, 50):\n",
    "    exRNA_filter_results[\"threshold\"].append(th)\n",
    "    exRNA_filter_results[\"count\"].append(total_loci_num - np.sum(exRNA_loci_hits_df[\"counts\"] >= th)) #Number of total loci minus number of loci eliminated (loci that intersected with or more than th samples) given a threshold TH\n",
    "exRNA_filter_results = pd.DataFrame(exRNA_filter_results)"
   ]
  },
  {
   "cell_type": "code",
   "execution_count": 18,
   "metadata": {},
   "outputs": [
    {
     "data": {
      "image/png": "[encoded data removed]",
      "text/plain": [
       "<Figure size 432x288 with 1 Axes>"
      ]
     },
     "metadata": {
      "needs_background": "light"
     },
     "output_type": "display_data"
    }
   ],
   "source": [
    "plt.plot('threshold', 'count', data=exRNA_filter_results)\n",
    "plt.xlabel(\"Threshold\")\n",
    "plt.ylabel(\"Number of exRNA Samples Overlap\")\n",
    "ax = plt.gca()\n",
    "cutoff=7\n",
    "ax.axvline(cutoff, color = \"r\", ls=\"--\", label=f\"thresh: {cutoff}\")\n",
    "plt.legend()\n",
    "plt.savefig(\"figures/exRNA_atlas_samples_filter_thresh.pdf\")"
   ]
  },
  {
   "cell_type": "markdown",
   "metadata": {},
   "source": [
    "Here we will go with a more stringent cutoff then our breast cancer cell lines and go with a cutoff of 7."
   ]
  },
  {
   "cell_type": "code",
   "execution_count": 19,
   "metadata": {},
   "outputs": [
    {
     "data": {
      "text/plain": [
       "4426820"
      ]
     },
     "execution_count": 19,
     "metadata": {},
     "output_type": "execute_result"
    }
   ],
   "source": [
    "to_remove = set(exRNA_loci_hits_df[exRNA_loci_hits_df[\"counts\"] >= 7][\"loci\"])\n",
    "len(to_remove)"
   ]
  },
  {
   "cell_type": "code",
   "execution_count": 20,
   "metadata": {},
   "outputs": [
    {
     "data": {
      "text/plain": [
       "(71517780, 75944600)"
      ]
     },
     "execution_count": 20,
     "metadata": {},
     "output_type": "execute_result"
    }
   ],
   "source": [
    "exRNA_filtered_loci = []\n",
    "for locus in loci_map:\n",
    "    if locus not in to_remove:\n",
    "        exRNA_filtered_loci.append(locus)\n",
    "len(exRNA_filtered_loci), len(loci_map)"
   ]
  },
  {
   "cell_type": "code",
   "execution_count": 21,
   "metadata": {},
   "outputs": [],
   "source": [
    "with open(\"data/tcga_smRNAs_loci_map_exRNA_filtered.bed\", \"w\") as out: \n",
    "    for locus in exRNA_filtered_loci:\n",
    "        splits = locus.split(\":\")\n",
    "        start = splits[1].split(\"-\")[0]\n",
    "        end = splits[1].split(\"-\")[1]\n",
    "        bed = f\"{splits[0]}\\t{start}\\t{end}\\t{locus}\\t.\\t{splits[-1]}\"\n",
    "        out.write(bed + \"\\n\")"
   ]
  },
  {
   "cell_type": "markdown",
   "metadata": {},
   "source": [
    "4426820 loci (out of 75944600) were removed at the exRNA filter step. This corresponds to about **5.8%** of our total loci (post-splitting)."
   ]
  },
  {
   "cell_type": "markdown",
   "metadata": {},
   "source": [
    "## Intersect Loci\n",
    "Here we intersect our filtered TCGA samples with our finalized loci feature map for downstream analysis."
   ]
  },
  {
   "cell_type": "markdown",
   "metadata": {},
   "source": [
    "Command: <br>\n",
    "`ls /rumi/shams/jwang/TCGA_oncRNA/data/TCGA/*.filter.bed | parallel -j 10 bash scripts/intersect_TCGA_loci.sh {} &> log/intersect_TCGA_loci.out`"
   ]
  },
  {
   "cell_type": "markdown",
   "metadata": {},
   "source": [
    "After talking with Hani we will just go through with it and then see if we need to tamper, but at the very least we know that it is at the exRNA step that we lose most of our reads."
   ]
  },
  {
   "cell_type": "markdown",
   "metadata": {},
   "source": [
    "## Insert Data into mongoDB "
   ]
  },
  {
   "cell_type": "markdown",
   "metadata": {},
   "source": [
    "Command:<br>\n",
    "`python3 scripts/insert_TCGA.py &> log/insert_mongo.out` "
   ]
  },
  {
   "cell_type": "markdown",
   "metadata": {},
   "source": [
    "## Create Index"
   ]
  },
  {
   "cell_type": "code",
   "execution_count": 22,
   "metadata": {},
   "outputs": [],
   "source": [
    "myclient = pymongo.MongoClient(port=27027)\n",
    "mydb = myclient[\"TCGA_loci\"]\n",
    "rnacol = mydb[\"smRNAs\"]"
   ]
  },
  {
   "cell_type": "code",
   "execution_count": 23,
   "metadata": {},
   "outputs": [
    {
     "data": {
      "text/plain": [
       "'locus_1'"
      ]
     },
     "execution_count": 23,
     "metadata": {},
     "output_type": "execute_result"
    }
   ],
   "source": [
    "rnacol.create_index([(\"locus\", pymongo.ASCENDING)])"
   ]
  },
  {
   "cell_type": "code",
   "execution_count": 24,
   "metadata": {},
   "outputs": [],
   "source": [
    "pipeline = [\n",
    "{\"$group\": {\"_id\": {\"locus\" :\"$locus\"},\n",
    "                        \"raw_total\": {\"$sum\": \"$raw_total\"},\n",
    "                        \"samples\": {\"$push\": \"$samples\"}}},\n",
    "            {\"$out\": \"smRNAagg\"}]"
   ]
  },
  {
   "cell_type": "code",
   "execution_count": 26,
   "metadata": {},
   "outputs": [
    {
     "data": {
      "text/plain": [
       "<pymongo.command_cursor.CommandCursor at 0x7f56c9960290>"
      ]
     },
     "execution_count": 26,
     "metadata": {},
     "output_type": "execute_result"
    }
   ],
   "source": [
    "rnacol.aggregate(pipeline, allowDiskUse=True)"
   ]
  },
  {
   "cell_type": "markdown",
   "metadata": {},
   "source": [
    "## Done\n",
    "Done with preprocessing. Next step is to run our stratified normal filters and Fisher Tests."
   ]
  }
 ],
 "metadata": {
  "kernelspec": {
   "display_name": "Python [conda env:smRNA]",
   "language": "python",
   "name": "conda-env-smRNA-py"
  },
  "language_info": {
   "codemirror_mode": {
    "name": "ipython",
    "version": 3
   },
   "file_extension": ".py",
   "mimetype": "text/x-python",
   "name": "python",
   "nbconvert_exporter": "python",
   "pygments_lexer": "ipython3",
   "version": "3.7.4"
  }
 },
 "nbformat": 4,
 "nbformat_minor": 4
}
