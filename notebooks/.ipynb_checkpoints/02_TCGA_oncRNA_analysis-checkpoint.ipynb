{
 "cells": [
  {
   "cell_type": "markdown",
   "metadata": {},
   "source": [
    "# TCGA Pan-Cancer oncRNA Analysis"
   ]
  },
  {
   "cell_type": "code",
   "execution_count": 1,
   "metadata": {},
   "outputs": [],
   "source": [
    "import pymongo\n",
    "from pymongo import InsertOne\n",
    "from pymongo import DeleteOne\n",
    "import os\n",
    "import pandas as pd\n",
    "import numpy as np\n",
    "from statsmodels.stats.multitest import fdrcorrection\n",
    "import scipy.stats as stats"
   ]
  },
  {
   "cell_type": "markdown",
   "metadata": {},
   "source": [
    "## TCGA Cancer-Normal Filter\n",
    "Here we remove RNA species that are present in less than 10% cancers across every cancer type.\n",
    "We also remove RNA species that are present in more than 10% of normal tissue samples for at least one tissue type"
   ]
  },
  {
   "cell_type": "code",
   "execution_count": 2,
   "metadata": {},
   "outputs": [],
   "source": [
    "tcga_metadata = pd.read_csv(\"metadata/TCGA_metadata.csv\")\n",
    "tcga_metadata = tcga_metadata.set_index(\"TCGAbarcode\", drop=False)\n",
    "\n",
    "normal_metadata = tcga_metadata[tcga_metadata[\"Sample\"].str.contains(\"normal\")]\n",
    "normal_counts = normal_metadata.groupby(\"TCGA_abb\", as_index=False)[\"Sample\"].count()\n",
    "#Only use normal tissue if at least 10 normal samples of that tissue for our 10% normal tissue samples filter.\n",
    "normal_counts = normal_counts[normal_counts[\"Sample\"] >= 10].set_index(\"TCGA_abb\", drop=False) \n",
    "#This only includes normal tissue that have at least 10 samples.\n",
    "normal_counts_dict = dict(zip(normal_counts[\"TCGA_abb\"], normal_counts[\"Sample\"]))\n",
    "\n",
    "cancer_metadata = tcga_metadata[~tcga_metadata[\"Sample\"].str.contains(\"normal\")] #Does not contain normal.\n",
    "cancer_counts = cancer_metadata.groupby(\"TCGA_abb\", as_index=False)[\"Sample\"].count()\n",
    "cancer_counts_dict = dict(zip(cancer_counts[\"TCGA_abb\"], cancer_counts[\"Sample\"]))"
   ]
  },
  {
   "cell_type": "code",
   "execution_count": 3,
   "metadata": {},
   "outputs": [
    {
     "data": {
      "text/plain": [
       "{'BLCA': 19,\n",
       " 'BRCA': 104,\n",
       " 'ESCA': 13,\n",
       " 'HNSC': 44,\n",
       " 'KICH': 25,\n",
       " 'KIRC': 71,\n",
       " 'KIRP': 34,\n",
       " 'LIHC': 50,\n",
       " 'LUAD': 46,\n",
       " 'LUSC': 45,\n",
       " 'PRAD': 52,\n",
       " 'STAD': 45,\n",
       " 'THCA': 59,\n",
       " 'UCEC': 33}"
      ]
     },
     "execution_count": 3,
     "metadata": {},
     "output_type": "execute_result"
    }
   ],
   "source": [
    "normal_counts_dict"
   ]
  },
  {
   "cell_type": "code",
   "execution_count": 4,
   "metadata": {},
   "outputs": [],
   "source": [
    "def TCGA_filter(document, threshold=0.1):\n",
    "    cancer_count = {}\n",
    "    normal_count = {}\n",
    "    samples = document[\"samples\"]\n",
    "    for s in samples:\n",
    "        tissue = s[\"abb\"] #Abbreviated tissue\n",
    "        if \"normal\" in s[\"sample type\"]:\n",
    "            if tissue in normal_count:\n",
    "                normal_count[tissue] += 1\n",
    "            else:\n",
    "                normal_count[tissue] = 1 \n",
    "        else:\n",
    "            if tissue in cancer_count:\n",
    "                cancer_count[tissue] += 1\n",
    "            else:\n",
    "                cancer_count[tissue] = 1\n",
    "    \n",
    "    for tissue, count in normal_count.items():\n",
    "        if tissue in normal_counts_dict: #Only apply filter if the tissue has at least 10 normal samples.\n",
    "            total_count = normal_counts_dict[tissue] \n",
    "            if count/total_count > threshold: #We are only keeping RNAs that are present in less than or equal to 10% of normal samples for each tissue type.\n",
    "                return False  \n",
    "            \n",
    "    for tissue, count in cancer_count.items():\n",
    "        total_count = cancer_counts_dict[tissue]\n",
    "        if count/total_count >= threshold: #We are keeping RNAs that are present in 10% or more of cancer samples for at least one tissue type.\n",
    "            return True   \n",
    "    return False"
   ]
  },
  {
   "cell_type": "code",
   "execution_count": 5,
   "metadata": {},
   "outputs": [],
   "source": [
    "myclient=pymongo.MongoClient(port=27027)\n",
    "mydb = myclient[\"TCGA_loci\"]\n",
    "aggcol = mydb[\"smRNAagg\"]\n",
    "fil_rnacol = mydb[\"smRNAfil\"]"
   ]
  },
  {
   "cell_type": "code",
   "execution_count": 6,
   "metadata": {
    "collapsed": true,
    "jupyter": {
     "outputs_hidden": true
    }
   },
   "outputs": [
    {
     "name": "stdout",
     "output_type": "stream",
     "text": [
      "1 Done\n",
      "2 Done\n",
      "3 Done\n",
      "4 Done\n",
      "5 Done\n",
      "6 Done\n",
      "7 Done\n",
      "8 Done\n",
      "9 Done\n",
      "10 Done\n",
      "11 Done\n",
      "12 Done\n",
      "13 Done\n",
      "14 Done\n",
      "15 Done\n",
      "16 Done\n",
      "17 Done\n",
      "18 Done\n",
      "19 Done\n",
      "20 Done\n",
      "21 Done\n",
      "22 Done\n",
      "23 Done\n",
      "24 Done\n",
      "25 Done\n",
      "26 Done\n",
      "27 Done\n",
      "28 Done\n",
      "CPU times: user 36min 37s, sys: 3min 27s, total: 40min 4s\n",
      "Wall time: 46min 6s\n"
     ]
    }
   ],
   "source": [
    "%%time\n",
    "insert_req = []\n",
    "cursor = aggcol.find(no_cursor_timeout=True)\n",
    "batchcount = 0\n",
    "batch = 1\n",
    "for s in cursor:\n",
    "    if TCGA_filter(s) == True:\n",
    "        insert_req.append(InsertOne(s))\n",
    "        batchcount += 1\n",
    "    if batchcount == 10000:\n",
    "        fil_rnacol.bulk_write(insert_req)\n",
    "        insert_req = []\n",
    "        batchcount = 0\n",
    "        print(batch, \"Done\")\n",
    "        batch += 1\n",
    "if len(insert_req) > 0:\n",
    "    fil_rnacol.bulk_write(insert_req)\n",
    "    print(batch, \"Done\")"
   ]
  },
  {
   "cell_type": "code",
   "execution_count": 7,
   "metadata": {},
   "outputs": [
    {
     "data": {
      "text/plain": [
       "275315"
      ]
     },
     "execution_count": 7,
     "metadata": {},
     "output_type": "execute_result"
    }
   ],
   "source": [
    "fil_rnacol.estimated_document_count()"
   ]
  },
  {
   "cell_type": "markdown",
   "metadata": {},
   "source": [
    "Post normal-cancer filter we have 275315 unique RNAs to then go through our Fisher Analysis."
   ]
  },
  {
   "cell_type": "code",
   "execution_count": 8,
   "metadata": {},
   "outputs": [],
   "source": [
    "myclient.close()"
   ]
  },
  {
   "cell_type": "markdown",
   "metadata": {},
   "source": [
    "# Fisher Analysis\n",
    "Following the initial filter, we then apply a Fisher Test for each RNA species to search for RNAs that are cancer-specific and not present in normal tissue (similar to the Nature Med paper: Cancer cells exploit an orphan RNA to drive metastatic progression, Fish et.al)"
   ]
  },
  {
   "cell_type": "code",
   "execution_count": 9,
   "metadata": {},
   "outputs": [],
   "source": [
    "myclient=pymongo.MongoClient(port=27027)\n",
    "mydb = myclient[\"TCGA_loci\"]\n",
    "fil_rnacol = mydb[\"smRNAfil\"]"
   ]
  },
  {
   "cell_type": "code",
   "execution_count": 10,
   "metadata": {},
   "outputs": [],
   "source": [
    "rna_cancer_sample_count = {}\n",
    "for cancer in cancer_counts_dict.keys():\n",
    "    rna_cancer_sample_count[cancer] = {}"
   ]
  },
  {
   "cell_type": "code",
   "execution_count": 11,
   "metadata": {},
   "outputs": [],
   "source": [
    "cursor = fil_rnacol.find(no_cursor_timeout=True)\n",
    "rna_norm_sample_count = {}\n",
    "for rna in cursor:\n",
    "    locus = rna[\"_id\"][\"locus\"]\n",
    "    samples = rna[\"samples\"]\n",
    "    rna_norm_sample_count[locus] = 0   \n",
    "    for s in samples:\n",
    "        if \"normal\" in s[\"sample type\"]:\n",
    "            rna_norm_sample_count[locus] += 1\n",
    "        else:              \n",
    "            tissue_abb = s[\"abb\"]\n",
    "            if locus in rna_cancer_sample_count[tissue_abb]:\n",
    "                rna_cancer_sample_count[tissue_abb][locus] += 1\n",
    "            else:\n",
    "                rna_cancer_sample_count[tissue_abb][locus] = 1"
   ]
  },
  {
   "cell_type": "code",
   "execution_count": 12,
   "metadata": {},
   "outputs": [],
   "source": [
    "myclient.close()"
   ]
  },
  {
   "cell_type": "code",
   "execution_count": 14,
   "metadata": {},
   "outputs": [
    {
     "data": {
      "text/plain": [
       "275297"
      ]
     },
     "execution_count": 14,
     "metadata": {},
     "output_type": "execute_result"
    }
   ],
   "source": [
    "num_ctrl = 679 #All normals are pooled here at this step.\n",
    "oncRNAs = set()\n",
    "for cancer, data in rna_cancer_sample_count.items():\n",
    "    num_cancer = cancer_counts_dict[cancer] #Total number of samples for a given CANCER\n",
    "    cancer_locus_pval = {}\n",
    "    for locus, test_count in data.items(): # DATA is a dictionary of loci as keys and corresponding counts of samples with the loci for a given CANCER as values \n",
    "        ctrl_count = rna_norm_sample_count[locus]\n",
    "        oddsratio, pvalue = stats.fisher_exact([[test_count, ctrl_count],[num_cancer-test_count, num_ctrl-ctrl_count]], \"greater\")\n",
    "        cancer_locus_pval[locus] = pvalue  \n",
    "        \n",
    "    cancer_locus_pval_df = pd.DataFrame.from_dict(cancer_locus_pval, orient=\"index\", columns=[\"pval\"])\n",
    "    \n",
    "    rej, fdr = fdrcorrection(cancer_locus_pval_df[\"pval\"], alpha=0.1)\n",
    "    cancer_locus_pval_df[\"fdr\"] = fdr  \n",
    "    fdr_cancer_locus_df = cancer_locus_pval_df[cancer_locus_pval_df[\"fdr\"] <= 0.1] #fdr threshold of 0.1\n",
    "    oncRNAs.update(fdr_cancer_locus_df.index)\n",
    "    cancer_locus_pval_df.to_csv(f\"results/fisher/{cancer}_fisher.csv\")\n",
    "    \n",
    "len(oncRNAs)"
   ]
  },
  {
   "cell_type": "markdown",
   "metadata": {},
   "source": [
    "## Update Database"
   ]
  },
  {
   "cell_type": "code",
   "execution_count": 15,
   "metadata": {},
   "outputs": [],
   "source": [
    "myclient=pymongo.MongoClient(port=27027)\n",
    "mydb = myclient[\"TCGA_loci\"]\n",
    "fil_rnacol = mydb[\"smRNAfil\"]\n",
    "oncRNAcol = mydb[\"oncRNA\"]"
   ]
  },
  {
   "cell_type": "code",
   "execution_count": 16,
   "metadata": {},
   "outputs": [],
   "source": [
    "insert_req = []\n",
    "cursor = fil_rnacol.find(no_cursor_timeout=True)\n",
    "batchcount = 0\n",
    "for s in cursor:\n",
    "    locus = s[\"_id\"][\"locus\"]\n",
    "    if locus in oncRNAs:\n",
    "        insert_req.append(InsertOne(s))\n",
    "        batchcount += 1\n",
    "    if batchcount == 10000:\n",
    "        #Write to a new collection called oncRNA\n",
    "        oncRNAcol.bulk_write(insert_req)\n",
    "        insert_req = []\n",
    "        batchcount = 0\n",
    "if len(insert_req) > 0:\n",
    "    oncRNAcol.bulk_write(insert_req)"
   ]
  },
  {
   "cell_type": "code",
   "execution_count": 17,
   "metadata": {},
   "outputs": [
    {
     "data": {
      "text/plain": [
       "275297"
      ]
     },
     "execution_count": 17,
     "metadata": {},
     "output_type": "execute_result"
    }
   ],
   "source": [
    "oncRNAcol.estimated_document_count()"
   ]
  },
  {
   "cell_type": "markdown",
   "metadata": {},
   "source": [
    "## Save oncRNAs"
   ]
  },
  {
   "cell_type": "code",
   "execution_count": 18,
   "metadata": {},
   "outputs": [],
   "source": [
    "myclient=pymongo.MongoClient(port=27027)\n",
    "mydb = myclient[\"TCGA_loci\"]\n",
    "oncRNAcol = mydb[\"oncRNA\"]"
   ]
  },
  {
   "cell_type": "code",
   "execution_count": 19,
   "metadata": {},
   "outputs": [],
   "source": [
    "oncRNAs = []\n",
    "cursor = oncRNAcol.find(no_cursor_timeout=True)\n",
    "with open(\"results/pancancer_oncRNAs.bed\", \"w\") as out:    \n",
    "    for s in cursor:\n",
    "        locus = s[\"_id\"][\"locus\"]\n",
    "        splits = locus.split(\":\")\n",
    "        start = splits[1].split(\"-\")[0]\n",
    "        end = splits[1].split(\"-\")[1]\n",
    "        bed = f\"{splits[0]}\\t{start}\\t{end}\\t{locus}\\t.\\t{splits[2]}\"\n",
    "        out.write(bed + \"\\n\")"
   ]
  },
  {
   "cell_type": "markdown",
   "metadata": {},
   "source": [
    "# Done"
   ]
  }
 ],
 "metadata": {
  "kernelspec": {
   "display_name": "Python [conda env:smRNA]",
   "language": "python",
   "name": "conda-env-smRNA-py"
  },
  "language_info": {
   "codemirror_mode": {
    "name": "ipython",
    "version": 3
   },
   "file_extension": ".py",
   "mimetype": "text/x-python",
   "name": "python",
   "nbconvert_exporter": "python",
   "pygments_lexer": "ipython3",
   "version": "3.7.4"
  }
 },
 "nbformat": 4,
 "nbformat_minor": 4
}
